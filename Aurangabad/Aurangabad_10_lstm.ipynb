{
 "cells": [
  {
   "cell_type": "code",
   "execution_count": 1,
   "id": "da05d7ad",
   "metadata": {},
   "outputs": [],
   "source": [
    "# Import necessary libraries\n",
    "import numpy as np\n",
    "import pandas as pd\n",
    "from keras.models import Sequential\n",
    "from keras.layers import LSTM, Dense, Dropout\n",
    "from sklearn.preprocessing import MinMaxScaler"
   ]
  },
  {
   "cell_type": "code",
   "execution_count": 2,
   "id": "9351e743",
   "metadata": {},
   "outputs": [],
   "source": [
    "# Load dataset\n",
    "dataset = pd.read_csv('Aurangabad_lstm_10.csv')\n",
    "data = dataset.values\n",
    "data = data.astype('float32')"
   ]
  },
  {
   "cell_type": "code",
   "execution_count": 3,
   "id": "df2c90cb",
   "metadata": {},
   "outputs": [],
   "source": [
    "# Normalize the data\n",
    "scaler = MinMaxScaler(feature_range=(0, 1))\n",
    "data = scaler.fit_transform(data)"
   ]
  },
  {
   "cell_type": "code",
   "execution_count": 4,
   "id": "4e9a0fe5",
   "metadata": {},
   "outputs": [],
   "source": [
    "# Split data into training and testing sets\n",
    "train_size = int(len(data) * 0.67)\n",
    "test_size = len(data) - train_size\n",
    "train, test = data[0:train_size,:], data[train_size:len(data),:]"
   ]
  },
  {
   "cell_type": "code",
   "execution_count": 5,
   "id": "e131b1de",
   "metadata": {},
   "outputs": [],
   "source": [
    "# Create function to create LSTM model\n",
    "def create_model():\n",
    "    model = Sequential()\n",
    "    model.add(LSTM(50, input_shape=(1, 1)))\n",
    "    model.add(Dropout(0.2))\n",
    "    model.add(Dense(1))\n",
    "    model.compile(loss='mean_squared_error', optimizer='adam')\n",
    "    return model"
   ]
  },
  {
   "cell_type": "code",
   "execution_count": 6,
   "id": "129fd8a5",
   "metadata": {},
   "outputs": [],
   "source": [
    "# Reshape input data to be 3-dimensional\n",
    "X_train = np.reshape(train, (train.shape[0], 1, train.shape[1]))\n",
    "X_test = np.reshape(test, (test.shape[0], 1, test.shape[1]))"
   ]
  },
  {
   "cell_type": "code",
   "execution_count": 7,
   "id": "8e08e5f4",
   "metadata": {},
   "outputs": [
    {
     "name": "stdout",
     "output_type": "stream",
     "text": [
      "Epoch 1/50\n",
      "1039/1039 - 9s - loss: 0.0013 - 9s/epoch - 8ms/step\n",
      "Epoch 2/50\n",
      "1039/1039 - 4s - loss: 1.2611e-04 - 4s/epoch - 4ms/step\n",
      "Epoch 3/50\n",
      "1039/1039 - 4s - loss: 1.1634e-04 - 4s/epoch - 4ms/step\n",
      "Epoch 4/50\n",
      "1039/1039 - 4s - loss: 4.0406e-05 - 4s/epoch - 4ms/step\n",
      "Epoch 5/50\n",
      "1039/1039 - 4s - loss: 2.6666e-05 - 4s/epoch - 4ms/step\n",
      "Epoch 6/50\n",
      "1039/1039 - 4s - loss: 3.9117e-05 - 4s/epoch - 4ms/step\n",
      "Epoch 7/50\n",
      "1039/1039 - 4s - loss: 4.2893e-05 - 4s/epoch - 4ms/step\n",
      "Epoch 8/50\n",
      "1039/1039 - 4s - loss: 4.8318e-05 - 4s/epoch - 4ms/step\n",
      "Epoch 9/50\n",
      "1039/1039 - 4s - loss: 4.4867e-05 - 4s/epoch - 4ms/step\n",
      "Epoch 10/50\n",
      "1039/1039 - 4s - loss: 2.3338e-05 - 4s/epoch - 4ms/step\n",
      "Epoch 11/50\n",
      "1039/1039 - 4s - loss: 3.0982e-05 - 4s/epoch - 4ms/step\n",
      "Epoch 12/50\n",
      "1039/1039 - 4s - loss: 2.4095e-05 - 4s/epoch - 4ms/step\n",
      "Epoch 13/50\n",
      "1039/1039 - 4s - loss: 2.9154e-05 - 4s/epoch - 4ms/step\n",
      "Epoch 14/50\n",
      "1039/1039 - 4s - loss: 2.5605e-05 - 4s/epoch - 4ms/step\n",
      "Epoch 15/50\n",
      "1039/1039 - 4s - loss: 5.6238e-05 - 4s/epoch - 4ms/step\n",
      "Epoch 16/50\n",
      "1039/1039 - 4s - loss: 1.6268e-05 - 4s/epoch - 4ms/step\n",
      "Epoch 17/50\n",
      "1039/1039 - 5s - loss: 1.9287e-05 - 5s/epoch - 5ms/step\n",
      "Epoch 18/50\n",
      "1039/1039 - 5s - loss: 5.1212e-05 - 5s/epoch - 4ms/step\n",
      "Epoch 19/50\n",
      "1039/1039 - 4s - loss: 4.3032e-05 - 4s/epoch - 4ms/step\n",
      "Epoch 20/50\n",
      "1039/1039 - 4s - loss: 3.4397e-05 - 4s/epoch - 4ms/step\n",
      "Epoch 21/50\n",
      "1039/1039 - 4s - loss: 1.6309e-05 - 4s/epoch - 4ms/step\n",
      "Epoch 22/50\n",
      "1039/1039 - 4s - loss: 3.6992e-05 - 4s/epoch - 4ms/step\n",
      "Epoch 23/50\n",
      "1039/1039 - 4s - loss: 3.2174e-05 - 4s/epoch - 4ms/step\n",
      "Epoch 24/50\n",
      "1039/1039 - 4s - loss: 1.9267e-05 - 4s/epoch - 4ms/step\n",
      "Epoch 25/50\n",
      "1039/1039 - 4s - loss: 2.0649e-05 - 4s/epoch - 4ms/step\n",
      "Epoch 26/50\n",
      "1039/1039 - 4s - loss: 4.2711e-05 - 4s/epoch - 4ms/step\n",
      "Epoch 27/50\n",
      "1039/1039 - 4s - loss: 5.4259e-05 - 4s/epoch - 4ms/step\n",
      "Epoch 28/50\n",
      "1039/1039 - 4s - loss: 3.9330e-05 - 4s/epoch - 4ms/step\n",
      "Epoch 29/50\n",
      "1039/1039 - 4s - loss: 2.9099e-05 - 4s/epoch - 4ms/step\n",
      "Epoch 30/50\n",
      "1039/1039 - 4s - loss: 2.4829e-05 - 4s/epoch - 4ms/step\n",
      "Epoch 31/50\n",
      "1039/1039 - 4s - loss: 1.7769e-05 - 4s/epoch - 4ms/step\n",
      "Epoch 32/50\n",
      "1039/1039 - 4s - loss: 4.6830e-05 - 4s/epoch - 4ms/step\n",
      "Epoch 33/50\n",
      "1039/1039 - 4s - loss: 1.9631e-05 - 4s/epoch - 4ms/step\n",
      "Epoch 34/50\n",
      "1039/1039 - 4s - loss: 2.5251e-05 - 4s/epoch - 4ms/step\n",
      "Epoch 35/50\n",
      "1039/1039 - 4s - loss: 2.7020e-05 - 4s/epoch - 4ms/step\n",
      "Epoch 36/50\n",
      "1039/1039 - 4s - loss: 4.4519e-05 - 4s/epoch - 4ms/step\n",
      "Epoch 37/50\n",
      "1039/1039 - 4s - loss: 2.8935e-05 - 4s/epoch - 4ms/step\n",
      "Epoch 38/50\n",
      "1039/1039 - 4s - loss: 3.7015e-05 - 4s/epoch - 4ms/step\n",
      "Epoch 39/50\n",
      "1039/1039 - 4s - loss: 6.8710e-05 - 4s/epoch - 4ms/step\n",
      "Epoch 40/50\n",
      "1039/1039 - 4s - loss: 4.1564e-05 - 4s/epoch - 4ms/step\n",
      "Epoch 41/50\n",
      "1039/1039 - 4s - loss: 1.7903e-05 - 4s/epoch - 4ms/step\n",
      "Epoch 42/50\n",
      "1039/1039 - 4s - loss: 3.6361e-05 - 4s/epoch - 4ms/step\n",
      "Epoch 43/50\n",
      "1039/1039 - 4s - loss: 1.8169e-05 - 4s/epoch - 4ms/step\n",
      "Epoch 44/50\n",
      "1039/1039 - 3s - loss: 4.7977e-05 - 3s/epoch - 3ms/step\n",
      "Epoch 45/50\n",
      "1039/1039 - 3s - loss: 2.2622e-05 - 3s/epoch - 3ms/step\n",
      "Epoch 46/50\n",
      "1039/1039 - 3s - loss: 3.6796e-05 - 3s/epoch - 3ms/step\n",
      "Epoch 47/50\n",
      "1039/1039 - 3s - loss: 6.0872e-05 - 3s/epoch - 3ms/step\n",
      "Epoch 48/50\n",
      "1039/1039 - 4s - loss: 2.3610e-05 - 4s/epoch - 3ms/step\n",
      "Epoch 49/50\n",
      "1039/1039 - 4s - loss: 1.4736e-05 - 4s/epoch - 4ms/step\n",
      "Epoch 50/50\n",
      "1039/1039 - 4s - loss: 2.8719e-05 - 4s/epoch - 4ms/step\n"
     ]
    },
    {
     "data": {
      "text/plain": [
       "<keras.callbacks.History at 0x29fb30636d0>"
      ]
     },
     "execution_count": 7,
     "metadata": {},
     "output_type": "execute_result"
    }
   ],
   "source": [
    "# Create and fit the LSTM model\n",
    "model = create_model()\n",
    "model.fit(X_train, train, epochs=50, batch_size=1, verbose=2)"
   ]
  },
  {
   "cell_type": "code",
   "execution_count": 8,
   "id": "d26c46d6",
   "metadata": {},
   "outputs": [
    {
     "name": "stdout",
     "output_type": "stream",
     "text": [
      "33/33 [==============================] - 1s 4ms/step\n",
      "16/16 [==============================] - 0s 4ms/step\n"
     ]
    }
   ],
   "source": [
    "train_predict = model.predict(X_train)\n",
    "test_predict = model.predict(X_test)"
   ]
  },
  {
   "cell_type": "code",
   "execution_count": 9,
   "id": "b30bd1af",
   "metadata": {},
   "outputs": [],
   "source": [
    "train_predict = scaler.inverse_transform(train_predict)\n",
    "train = scaler.inverse_transform(train)\n",
    "test_predict = scaler.inverse_transform(test_predict)\n",
    "test = scaler.inverse_transform(test)\n"
   ]
  },
  {
   "cell_type": "code",
   "execution_count": 10,
   "id": "b2e8a416",
   "metadata": {},
   "outputs": [
    {
     "name": "stdout",
     "output_type": "stream",
     "text": [
      "Train RMSE: 0.98\n",
      "Test RMSE: 1.03\n"
     ]
    }
   ],
   "source": [
    "train_rmse = np.sqrt(np.mean(np.power((train - train_predict), 2)))\n",
    "test_rmse = np.sqrt(np.mean(np.power((test - test_predict), 2)))\n",
    "print('Train RMSE: %.2f' % train_rmse)\n",
    "print('Test RMSE: %.2f' % test_rmse)"
   ]
  },
  {
   "cell_type": "code",
   "execution_count": 11,
   "id": "d3cbdb10",
   "metadata": {
    "scrolled": true
   },
   "outputs": [
    {
     "data": {
      "text/html": [
       "<div>\n",
       "<style scoped>\n",
       "    .dataframe tbody tr th:only-of-type {\n",
       "        vertical-align: middle;\n",
       "    }\n",
       "\n",
       "    .dataframe tbody tr th {\n",
       "        vertical-align: top;\n",
       "    }\n",
       "\n",
       "    .dataframe thead th {\n",
       "        text-align: right;\n",
       "    }\n",
       "</style>\n",
       "<table border=\"1\" class=\"dataframe\">\n",
       "  <thead>\n",
       "    <tr style=\"text-align: right;\">\n",
       "      <th></th>\n",
       "      <th>Actual</th>\n",
       "      <th>Predicted from lstm</th>\n",
       "    </tr>\n",
       "  </thead>\n",
       "  <tbody>\n",
       "    <tr>\n",
       "      <th>0</th>\n",
       "      <td>[123.4699935913086]</td>\n",
       "      <td>[122.40868377685547]</td>\n",
       "    </tr>\n",
       "    <tr>\n",
       "      <th>1</th>\n",
       "      <td>[160.00999450683594]</td>\n",
       "      <td>[159.26499938964844]</td>\n",
       "    </tr>\n",
       "    <tr>\n",
       "      <th>2</th>\n",
       "      <td>[133.6799774169922]</td>\n",
       "      <td>[132.68087768554688]</td>\n",
       "    </tr>\n",
       "    <tr>\n",
       "      <th>3</th>\n",
       "      <td>[126.95999908447266]</td>\n",
       "      <td>[125.91754150390625]</td>\n",
       "    </tr>\n",
       "    <tr>\n",
       "      <th>4</th>\n",
       "      <td>[142.25997924804688]</td>\n",
       "      <td>[141.32937622070312]</td>\n",
       "    </tr>\n",
       "    <tr>\n",
       "      <th>...</th>\n",
       "      <td>...</td>\n",
       "      <td>...</td>\n",
       "    </tr>\n",
       "    <tr>\n",
       "      <th>1034</th>\n",
       "      <td>[96.66000366210938]</td>\n",
       "      <td>[95.54337310791016]</td>\n",
       "    </tr>\n",
       "    <tr>\n",
       "      <th>1035</th>\n",
       "      <td>[109.61000061035156]</td>\n",
       "      <td>[108.49979400634766]</td>\n",
       "    </tr>\n",
       "    <tr>\n",
       "      <th>1036</th>\n",
       "      <td>[109.21998596191406]</td>\n",
       "      <td>[108.1090087890625]</td>\n",
       "    </tr>\n",
       "    <tr>\n",
       "      <th>1037</th>\n",
       "      <td>[120.69998168945312]</td>\n",
       "      <td>[119.62556457519531]</td>\n",
       "    </tr>\n",
       "    <tr>\n",
       "      <th>1038</th>\n",
       "      <td>[160.9600067138672]</td>\n",
       "      <td>[160.22653198242188]</td>\n",
       "    </tr>\n",
       "  </tbody>\n",
       "</table>\n",
       "<p>1039 rows × 2 columns</p>\n",
       "</div>"
      ],
      "text/plain": [
       "                    Actual   Predicted from lstm\n",
       "0      [123.4699935913086]  [122.40868377685547]\n",
       "1     [160.00999450683594]  [159.26499938964844]\n",
       "2      [133.6799774169922]  [132.68087768554688]\n",
       "3     [126.95999908447266]  [125.91754150390625]\n",
       "4     [142.25997924804688]  [141.32937622070312]\n",
       "...                    ...                   ...\n",
       "1034   [96.66000366210938]   [95.54337310791016]\n",
       "1035  [109.61000061035156]  [108.49979400634766]\n",
       "1036  [109.21998596191406]   [108.1090087890625]\n",
       "1037  [120.69998168945312]  [119.62556457519531]\n",
       "1038   [160.9600067138672]  [160.22653198242188]\n",
       "\n",
       "[1039 rows x 2 columns]"
      ]
     },
     "execution_count": 11,
     "metadata": {},
     "output_type": "execute_result"
    }
   ],
   "source": [
    "df=pd.DataFrame({'Actual':train.tolist(),'Predicted from lstm':train_predict.tolist()})\n",
    "df.to_excel('lastm_10.xlsx')\n",
    "df"
   ]
  },
  {
   "cell_type": "code",
   "execution_count": 12,
   "id": "427c003d",
   "metadata": {},
   "outputs": [
    {
     "data": {
      "text/html": [
       "<div>\n",
       "<style scoped>\n",
       "    .dataframe tbody tr th:only-of-type {\n",
       "        vertical-align: middle;\n",
       "    }\n",
       "\n",
       "    .dataframe tbody tr th {\n",
       "        vertical-align: top;\n",
       "    }\n",
       "\n",
       "    .dataframe thead th {\n",
       "        text-align: right;\n",
       "    }\n",
       "</style>\n",
       "<table border=\"1\" class=\"dataframe\">\n",
       "  <thead>\n",
       "    <tr style=\"text-align: right;\">\n",
       "      <th></th>\n",
       "      <th>Actual</th>\n",
       "      <th>Predicted from lstm</th>\n",
       "    </tr>\n",
       "  </thead>\n",
       "  <tbody>\n",
       "    <tr>\n",
       "      <th>0</th>\n",
       "      <td>[146.44000244140625]</td>\n",
       "      <td>[145.5478973388672]</td>\n",
       "    </tr>\n",
       "    <tr>\n",
       "      <th>1</th>\n",
       "      <td>[128.24000549316406]</td>\n",
       "      <td>[127.20509338378906]</td>\n",
       "    </tr>\n",
       "    <tr>\n",
       "      <th>2</th>\n",
       "      <td>[125.989990234375]</td>\n",
       "      <td>[124.94203186035156]</td>\n",
       "    </tr>\n",
       "    <tr>\n",
       "      <th>3</th>\n",
       "      <td>[92.79000091552734]</td>\n",
       "      <td>[91.6791763305664]</td>\n",
       "    </tr>\n",
       "    <tr>\n",
       "      <th>4</th>\n",
       "      <td>[81.4000015258789]</td>\n",
       "      <td>[80.32775115966797]</td>\n",
       "    </tr>\n",
       "    <tr>\n",
       "      <th>...</th>\n",
       "      <td>...</td>\n",
       "      <td>...</td>\n",
       "    </tr>\n",
       "    <tr>\n",
       "      <th>507</th>\n",
       "      <td>[111.66000366210938]</td>\n",
       "      <td>[110.5543441772461]</td>\n",
       "    </tr>\n",
       "    <tr>\n",
       "      <th>508</th>\n",
       "      <td>[136.57000732421875]</td>\n",
       "      <td>[135.5923614501953]</td>\n",
       "    </tr>\n",
       "    <tr>\n",
       "      <th>509</th>\n",
       "      <td>[244.66000366210938]</td>\n",
       "      <td>[245.43917846679688]</td>\n",
       "    </tr>\n",
       "    <tr>\n",
       "      <th>510</th>\n",
       "      <td>[109.56999206542969]</td>\n",
       "      <td>[108.45970153808594]</td>\n",
       "    </tr>\n",
       "    <tr>\n",
       "      <th>511</th>\n",
       "      <td>[110.68999481201172]</td>\n",
       "      <td>[109.58206939697266]</td>\n",
       "    </tr>\n",
       "  </tbody>\n",
       "</table>\n",
       "<p>512 rows × 2 columns</p>\n",
       "</div>"
      ],
      "text/plain": [
       "                   Actual   Predicted from lstm\n",
       "0    [146.44000244140625]   [145.5478973388672]\n",
       "1    [128.24000549316406]  [127.20509338378906]\n",
       "2      [125.989990234375]  [124.94203186035156]\n",
       "3     [92.79000091552734]    [91.6791763305664]\n",
       "4      [81.4000015258789]   [80.32775115966797]\n",
       "..                    ...                   ...\n",
       "507  [111.66000366210938]   [110.5543441772461]\n",
       "508  [136.57000732421875]   [135.5923614501953]\n",
       "509  [244.66000366210938]  [245.43917846679688]\n",
       "510  [109.56999206542969]  [108.45970153808594]\n",
       "511  [110.68999481201172]  [109.58206939697266]\n",
       "\n",
       "[512 rows x 2 columns]"
      ]
     },
     "execution_count": 12,
     "metadata": {},
     "output_type": "execute_result"
    }
   ],
   "source": [
    "df=pd.DataFrame({'Actual':test.tolist(),'Predicted from lstm':test_predict.tolist()})\n",
    "df.to_excel('lastm_10_test.xlsx')\n",
    "df"
   ]
  },
  {
   "cell_type": "code",
   "execution_count": null,
   "id": "8c622027",
   "metadata": {},
   "outputs": [],
   "source": []
  }
 ],
 "metadata": {
  "kernelspec": {
   "display_name": "Python 3 (ipykernel)",
   "language": "python",
   "name": "python3"
  },
  "language_info": {
   "codemirror_mode": {
    "name": "ipython",
    "version": 3
   },
   "file_extension": ".py",
   "mimetype": "text/x-python",
   "name": "python",
   "nbconvert_exporter": "python",
   "pygments_lexer": "ipython3",
   "version": "3.9.13"
  }
 },
 "nbformat": 4,
 "nbformat_minor": 5
}
